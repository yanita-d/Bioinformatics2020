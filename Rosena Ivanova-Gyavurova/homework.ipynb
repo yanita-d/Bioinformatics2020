{
 "metadata": {
  "language_info": {
   "codemirror_mode": {
    "name": "ipython",
    "version": 3
   },
   "file_extension": ".py",
   "mimetype": "text/x-python",
   "name": "python",
   "nbconvert_exporter": "python",
   "pygments_lexer": "ipython3",
   "version": "3.9.0-final"
  },
  "orig_nbformat": 2,
  "kernelspec": {
   "name": "python3",
   "display_name": "Python 3.9.0 64-bit",
   "metadata": {
    "interpreter": {
     "hash": "6d48636b0a57b2167bd3554c406b37d1a6bb00bc1288d6c33776459fe11d3750"
    }
   }
  }
 },
 "nbformat": 4,
 "nbformat_minor": 2,
 "cells": [
  {
   "cell_type": "code",
   "execution_count": 10,
   "metadata": {},
   "outputs": [
    {
     "output_type": "stream",
     "name": "stdout",
     "text": [
      "7\n"
     ]
    }
   ],
   "source": [
    "#1 \n",
    "from Bio.Seq import Seq\n",
    "from collections import Counter\n",
    "\n",
    "my_seq=Seq(\"ATAGTGGGAAGATTTATA\")\n",
    "print(my_seq.count(\"A\"))"
   ]
  },
  {
   "cell_type": "code",
   "execution_count": 6,
   "metadata": {},
   "outputs": [
    {
     "output_type": "stream",
     "name": "stdout",
     "text": [
      "Counter({'A': 7, 'T': 6, 'G': 5})\nTATCACCCTTCTAAATAT\n"
     ]
    }
   ],
   "source": [
    "from Bio.Seq import Seq\n",
    "from collections import Counter\n",
    "\n",
    "print(Counter(\"ATAGTGGGAAGATTTATA\"))\n",
    "my_seq = Seq(\"ATAGTGGGAAGATTTATA\")\n",
    "print(my_seq.complement())"
   ]
  },
  {
   "cell_type": "code",
   "execution_count": 9,
   "metadata": {},
   "outputs": [
    {
     "output_type": "stream",
     "name": "stdout",
     "text": [
      "\nCGATCTCCACTACAAAAACCATTTGTCCGCCCCATTCTAAACGGCTCAAGGAAAATAAAAAATTGGAAAGGAATACTCGTACGGACACAACCCAACTGTCACTCCCATTATTACTGAACAACCAACTAACATCTATAACCCGACAATTAACAGTCAAGTCACAAAATTAGACTGCGTCCGAATACGCCTCCTCTTACAAAAGTACAATGAATATGATTGTAATCAAGAAGATATCCCACTATCTAACCAGGTTAACCCACACTCCTCAAGTCAATATACAAACCCTAAAAAATCCATCACCCACAACTCGAACTTGCGAAAGAATTAACCACCGACGAAAATCCGGATGATACCCACAATTTAAAAAATGAGAGAGATGTTCCAAAAAAGGATCACAGGTTTCTCGACAAGGAGAAACCTGATTGTCAATTTAAATGTTCCCCTAAATCTCCCAAGACACCCGTTTAAATTTCAACTTGATTCTAAGATAGAACCTGTTGGTCGATAGTGGTCCGAGCCATCCAAACAGCGGAGATGGATATTTAGAAGGGTGATAAAACGATGTATCTGCCCACACGAGAAAATCGACAAGAATCCATCGAGCAGACCAAAGCCCCCAGAATCGAAACCGAGAGGAACGTTTCAATAAAGATCAATTAAGTAATACGTCTTCCATATCCCCAATCAGGAACGATATAATACGAACCAATATTAAAAAGTAGAAAGGGAACGCCATGATATAGATAACGCGGTCCAAAGTTAAAGATAGCGGATATGAAATAAACCCATTTACCAAACCGATTCCAACAGACCATCATTCCACCTCACCCAAACCCCGATCCAAATCGAGTCTCGCCAGTTCAATTCAACTTTAGAGGATTCACATTCAACCCACGAAACACAATTCGATGTGAGACCAAGCAGGTTCACGTGAAAGGTCATGTGAATGGTACAATGCTGAACAGAGGAGATATATTTACGCATCCCCAAAATCAATTTACAGGAAACTTCATATGAACTCCTCCCACTGCCCGCCACACATGCGCGAAGTCCCGGGACAAGTTGATTCGTGAGATGAGAATCAAATGACGATTTAGGTGGAAGCTGGGAATTCAAAGTATTCCCGATAGCATCAAAA\n"
     ]
    }
   ],
   "source": [
    "#2\n",
    "seqFile=open(\"sequence_1.seq\", \"r\")\n",
    "seq=seqFile.read()\n",
    "rev=seq[::-1]\n",
    "print(rev)\n",
    "reverseSeq=open(\"reverse_sequence_1.seq\", \"w\")\n",
    "reverseSeq.write(rev)\n",
    "reverseSeq.close()\n"
   ]
  },
  {
   "cell_type": "code",
   "execution_count": 19,
   "metadata": {},
   "outputs": [
    {
     "output_type": "stream",
     "name": "stdout",
     "text": [
      "312\n"
     ]
    }
   ],
   "source": [
    "#3\n",
    "from Bio.Seq import Seq\n",
    "from Bio import SeqIO\n",
    "\n",
    "record = SeqIO.read(\"fasta_seq_1.fa\", \"fasta\")\n",
    "print(record.seq.count(\"T\"))"
   ]
  },
  {
   "cell_type": "code",
   "execution_count": 11,
   "metadata": {},
   "outputs": [],
   "source": [
    "#4\n",
    "dnaFile=open(\"dna_chromosome_1.seq\", \"r\")\n",
    "my_seq=dnaFile.read()\n",
    "\n",
    "dnaSeq=open(\"dna_chromosome_solve_1.seq\", \"w\")\n",
    "for dna in my_seq: \n",
    "    if dna==\"A\":\n",
    "        dnaSeq.write(\"T\")\n",
    "    elif dna==\"T\":\n",
    "        dnaSeq.write(\"A\")\n",
    "    else :\n",
    "        dnaSeq.write(dna)\n",
    "dnaSeq.close()\n",
    "\n"
   ]
  },
  {
   "cell_type": "code",
   "execution_count": 32,
   "metadata": {},
   "outputs": [],
   "source": [
    "#5\n",
    "def reverse_transcription():\n",
    "    with open(\"dna_chromosome_1.seq\", \"r\") as input_file, \\\n",
    "         open(\"reverse_RNAsequence_1.seq\", \"w\") as output_file:\n",
    "        rna = \"\"\n",
    "        for dna in input_file:\n",
    "            for base in dna:\n",
    "                if base == \"T\":\n",
    "                    rna += \"U\"\n",
    "                else:\n",
    "                    rna += base\n",
    "        output_file.write(rna[::-1])\n"
   ]
  },
  {
   "cell_type": "code",
   "execution_count": 16,
   "metadata": {},
   "outputs": [
    {
     "output_type": "execute_result",
     "data": {
      "text/plain": [
       "'2 4 10 '"
      ]
     },
     "metadata": {},
     "execution_count": 16
    }
   ],
   "source": [
    "# 6 \n",
    "s = \"GATATATGCATATACTT\"\n",
    "t = \"ATAT\"\n",
    "def findMotif(s,t):\n",
    "    start = 0\n",
    "    while True:\n",
    "        start = s.find(t,start)\n",
    "        if start == -1: return\n",
    "        yield start + 1\n",
    "        start += 1\n",
    "x = findMotif(s,t)\n",
    "answer = ''\n",
    "for y in x:\n",
    "    answer = answer + str(y) + \" \"\n",
    "answer"
   ]
  },
  {
   "cell_type": "code",
   "execution_count": 24,
   "metadata": {},
   "outputs": [
    {
     "output_type": "stream",
     "name": "stdout",
     "text": [
      "M\nMGMTPRLGLESLLE\nMTPRLGLESLLE\nMLLGSFRLIPKETLIQVAGSSPCNLS\nM\n"
     ]
    }
   ],
   "source": [
    "#7\n",
    "from Bio.Seq import Seq\n",
    "from collections import Counter\n",
    "\n",
    "mySeq = open(\"seq_Data.fa\", \"r\")\n",
    "my_seq=mySeq.read()\n",
    "\n",
    "# RNA transcribe\n",
    "RNA = Seq(my_seq).transcribe().__str__()\n",
    "\n",
    "\n",
    "startCodon=\"AUG\"\n",
    "stopCodons=[\"UAA\",\"UAG\",\"UGA\"]\n",
    "\n",
    "# RNA to amino acid\n",
    "for st in range(len(RNA)-len(startCodon)):\n",
    "    if RNA[st:st+len(startCodon)]==startCodon:\n",
    "\n",
    "        for stop in range(st,len(RNA),3):\n",
    "            if stopCodons.__contains__(RNA[stop:stop+3]):\n",
    "                print(Seq(RNA[st:stop]).translate())\n",
    "                break\n",
    "\n",
    "# Reverse complement RNA to amino acid\n",
    "compRNA=Seq(RNA).complement()\n",
    "revRNA=compRNA[::-1]\n",
    "for st in range(len(revRNA)-len(startCodon)):\n",
    "    if revRNA[st:st+len(startCodon)]==startCodon:\n",
    "\n",
    "        for stop in range(st,len(revRNA),3):\n",
    "            if stopCodons.__contains__(revRNA[stop:stop+3]):\n",
    "                print(revRNA[st:stop].translate())\n",
    "                break\n"
   ]
  },
  {
   "cell_type": "code",
   "execution_count": 29,
   "metadata": {},
   "outputs": [
    {
     "output_type": "stream",
     "name": "stdout",
     "text": [
      "taa codon is not in the list\n"
     ]
    }
   ],
   "source": [
    "# \n",
    "sequence =  \"ggtcagaaaaagccctctccatgtctactcacgatacatccctgaaaaccactgaggaagtggcttttcagatcatcttgctttgccagtttggggttgggacttttgccaatgtatttc\"\n",
    "startcodon = 0\n",
    "length = len(sequence)\n",
    "startcodon = sequence.find(\"atg\", startcodon)\n",
    "# list comprehension. could get codon_list in a for cycle\n",
    "codon_list = [sequence[i:i+3] for i in range(startcodon+3, length-3, 3)]\n",
    "\n",
    "# use list.index() to find out whether there is a stop codon in the codon_list\n",
    "# list.index() would throw error if value is not in the list\n",
    "try:\n",
    "    taacodon = startcodon + 3 * codon_list.index('taa')\n",
    "    print('taa codon is at {}'.format(taacodon))\n",
    "except:\n",
    "    print('taa codon is not in the list')"
   ]
  },
  {
   "cell_type": "code",
   "execution_count": null,
   "metadata": {},
   "outputs": [],
   "source": []
  }
 ]
}