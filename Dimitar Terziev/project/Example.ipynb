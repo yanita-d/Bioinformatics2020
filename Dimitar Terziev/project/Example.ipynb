{
 "cells": [
  {
   "cell_type": "code",
   "execution_count": 5,
   "metadata": {},
   "outputs": [],
   "source": [
    "import tkinter as tk\n",
    "import requests"
   ]
  },
  {
   "cell_type": "code",
   "execution_count": 6,
   "metadata": {},
   "outputs": [],
   "source": [
    "baseUrl = \"http://127.0.0.1:5000\""
   ]
  },
  {
   "cell_type": "code",
   "execution_count": 7,
   "metadata": {},
   "outputs": [],
   "source": [
    "def get_gene(id):\n",
    "    return requests.get(baseUrl + \"/v1/sequence/gene/\" + id).json()"
   ]
  },
  {
   "cell_type": "code",
   "execution_count": 8,
   "metadata": {},
   "outputs": [],
   "source": [
    "master = tk.Tk()\n",
    "\n",
    "tk.Label(master, text=\"Gene id\").grid(row=0)\n",
    "tk.Label(master, text=\"GC Content\").grid(row=1)\n",
    "tk.Label(master, text=\"Swap\").grid(row=2)\n",
    "\n",
    "e1 = tk.Entry(master)\n",
    "e2 = tk.Entry(master)\n",
    "e3 = tk.Entry(master)\n",
    "\n",
    "e1.grid(row=0, column=1)\n",
    "e2.grid(row=1, column=1)\n",
    "e3.grid(row=2, column=1)\n",
    "\n",
    "t1 = tk.Text(master, height=5, width=30)\n",
    "t1.grid(row=3)\n",
    "\n",
    "tk.Button(master, text='Show', \n",
    "          command=(lambda: t1.insert(tk.END, get_gene(e1.get())))\n",
    "         ).grid(row=3, column=1, sticky=tk.W, pady=4)\n",
    "\n",
    "master.mainloop()"
   ]
  },
  {
   "cell_type": "code",
   "execution_count": null,
   "metadata": {},
   "outputs": [],
   "source": []
  }
 ],
 "metadata": {
  "kernelspec": {
   "display_name": "Python 3",
   "language": "python",
   "name": "python3"
  },
  "language_info": {
   "codemirror_mode": {
    "name": "ipython",
    "version": 3
   },
   "file_extension": ".py",
   "mimetype": "text/x-python",
   "name": "python",
   "nbconvert_exporter": "python",
   "pygments_lexer": "ipython3",
   "version": "3.8.2"
  }
 },
 "nbformat": 4,
 "nbformat_minor": 4
}
