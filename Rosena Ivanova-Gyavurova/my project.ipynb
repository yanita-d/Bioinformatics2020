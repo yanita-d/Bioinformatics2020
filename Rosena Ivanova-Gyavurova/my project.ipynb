{
 "metadata": {
  "language_info": {
   "codemirror_mode": {
    "name": "ipython",
    "version": 3
   },
   "file_extension": ".py",
   "mimetype": "text/x-python",
   "name": "python",
   "nbconvert_exporter": "python",
   "pygments_lexer": "ipython3",
   "version": "3.9.0-final"
  },
  "orig_nbformat": 2,
  "kernelspec": {
   "name": "python3",
   "display_name": "Python 3.9.0 64-bit",
   "metadata": {
    "interpreter": {
     "hash": "6d48636b0a57b2167bd3554c406b37d1a6bb00bc1288d6c33776459fe11d3750"
    }
   }
  }
 },
 "nbformat": 4,
 "nbformat_minor": 2,
 "cells": [
  {
   "cell_type": "code",
   "execution_count": null,
   "metadata": {},
   "outputs": [],
   "source": [
    "import requests, json\n",
    "from flask import Flask\n",
    "from Bio.SeqUtils import GC\n",
    "\n",
    "app = Flask(__name__)\n",
    "server = \"https://rest.ensembl.org\"\n",
    "\n",
    " # ID seq from Ensemb\n",
    "def get_index(id)\n",
    "ext = '/v1/sequence/<id>/'\n",
    "r = requests.get(server + ext, headers={ \"Content-Type\" : \"application/json\"})\n",
    "\n",
    "if not r.ok:\n",
    "  r.raise_for_status()\n",
    "  sys.exit()\n",
    " \n",
    "decoded = r.json()\n",
    "return(repr(decoded))\n",
    "\n",
    "# ID exons\n",
    "def get_exon(seq)\n",
    "exons[]\n",
    "for e in output[\"Exon\"]:\n",
    "        exons.append({\"start\": e[\"start\"],\n",
    "            \"end\": e[\"end\"],\n",
    "            \"id\": e[\"id\"],\n",
    "            \"seq\": seq[e[\"start\"]-output[\"start\"]:e[\"end\"]-output[\"start\"]]}) \n",
    "\n",
    "\n",
    "# GC content\n",
    "\n",
    "ext = '/sequence/gene/id/?gc_content=true&swap=A:T'\n",
    "    r = requests.get(server + ext, headers={ \"Content-Type\" : \"application/json\"})\n",
    "if(gcContent==\"true\"):\n",
    "            result[\"gc_content\"]=GC(seq)\n",
    "return gc_content\n",
    "\n",
    "# A-T \n",
    "def get_reverseA(id)\n",
    "gc=\"/sequence/gene/id/+id?gc_content=true&swap=A:T').upper()\n",
    "for reverseA in gc: \n",
    "    if dna==\"A\":\n",
    "        dnaSeq.write(\"T\")\n",
    "    elif dna==\"T\":\n",
    "        dnaSeq.write(\"A\")\n",
    "    else :\n",
    "        dnaSeq.write(dna)\n",
    "dnaSeq.close()\n",
    "return reversed\n",
    "\n",
    "# Fasta format\n",
    "def get_fastaA(id)\n",
    "ext = '/v1/sequence/id/?content-type=fasta'\n",
    "s = requests.get(server+ext, headers={ \"Content-Type\" : \"text/x-fasta\"})  \n",
    "    \n",
    "if not r.ok:\n",
    "  r.raise_for_status()\n",
    "  sys.exit()\n",
    "return fastaA\n",
    "\n",
    "if _name_ == '_main_':\n",
    "  app.run(debug=True)\n"
   ]
  },
  {
   "cell_type": "code",
   "execution_count": null,
   "metadata": {},
   "outputs": [],
   "source": []
  }
 ]
}