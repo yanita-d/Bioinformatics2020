{
 "metadata": {
  "language_info": {
   "codemirror_mode": {
    "name": "ipython",
    "version": 3
   },
   "file_extension": ".py",
   "mimetype": "text/x-python",
   "name": "python",
   "nbconvert_exporter": "python",
   "pygments_lexer": "ipython3",
   "version": "3.9.0-final"
  },
  "orig_nbformat": 2,
  "kernelspec": {
   "name": "python3",
   "display_name": "Python 3.9.0 64-bit",
   "metadata": {
    "interpreter": {
     "hash": "6d48636b0a57b2167bd3554c406b37d1a6bb00bc1288d6c33776459fe11d3750"
    }
   }
  }
 },
 "nbformat": 4,
 "nbformat_minor": 2,
 "cells": [
  {
   "cell_type": "code",
   "execution_count": 15,
   "metadata": {},
   "outputs": [
    {
     "output_type": "error",
     "ename": "SyntaxError",
     "evalue": "invalid syntax (<ipython-input-15-8dcf9437c471>, line 10)",
     "traceback": [
      "\u001b[1;36m  File \u001b[1;32m\"<ipython-input-15-8dcf9437c471>\"\u001b[1;36m, line \u001b[1;32m10\u001b[0m\n\u001b[1;33m    def index(id)\u001b[0m\n\u001b[1;37m                 ^\u001b[0m\n\u001b[1;31mSyntaxError\u001b[0m\u001b[1;31m:\u001b[0m invalid syntax\n"
     ]
    }
   ],
   "source": [
    "import requests, json\n",
    "from flask import Flask\n",
    "from Bio.SeqUtils import GC\n",
    "\n",
    "app = Flask(__name__)\n",
    "server = \"https://rest.ensembl.org\"\n",
    "\n",
    " # ID seq from Ensembl\n",
    "@app.route('/v1/sequence/<id>/')\n",
    "def index(id)\n",
    "r = requests.get(server+ext, headers={ \"Content-Type\" : \"application/json\"})\n",
    "\n",
    "if not r.ok:\n",
    "  r.raise_for_status()\n",
    "  sys.exit()\n",
    " \n",
    "decoded = r.json()\n",
    "return(repr(decoded))\n",
    "\n",
    "# ID exons\n",
    "def get_exons(id)\n",
    "exons[]\n",
    "for e in output[\"Exon\"]:\n",
    "        exons.append({\"start\": e[\"start\"],\n",
    "            \"end\": e[\"end\"],\n",
    "            \"id\": e[\"id\"],\n",
    "            \"seq\": seq[e[\"start\"]-output[\"start\"]:e[\"end\"]-output[\"start\"]]}) \n",
    "\n",
    "\n",
    "# GC content\n",
    "@app.route('/sequence/gene/id/?gc_content=true&swap=A:T')\n",
    "def gc_content\n",
    "    r = requests.get(server+ext, headers={ \"Content-Type\" : \"application/json\"})\n",
    "if(gcContent==\"true\"):\n",
    "            result[\"gc_content\"]=GC(seq)\n",
    "return gc_content\n",
    "\n",
    "# A-T \n",
    "def reverseA\n",
    "gc=\"/sequence/gene/id/+id?gc_content=true&swap=A:T').upper()\n",
    "for reverseA in gc: \n",
    "    if dna==\"A\":\n",
    "        dnaSeq.write(\"T\")\n",
    "    elif dna==\"T\":\n",
    "        dnaSeq.write(\"A\")\n",
    "    else :\n",
    "        dnaSeq.write(dna)\n",
    "dnaSeq.close()\n",
    "\n",
    "return reversed\n",
    "\n",
    "# Fasta format\n",
    "@app.route('/v1/sequence/id/?content-type=fasta')\n",
    "def fastaA\n",
    "ext = \"/sequence/id/CCDS5863.1?db_type=otherfeatures;species=human;type=cds;object_type=transcript\"\n",
    "s = requests.get(server+ext, headers={ \"Content-Type\" : \"text/x-fasta\"})  \n",
    "    \n",
    "if not r.ok:\n",
    "  r.raise_for_status()\n",
    "  sys.exit()\n",
    "return fastaA\n",
    "\n",
    "if _name_ == '_main_':\n",
    "  app.run(debug=True)\n"
   ]
  },
  {
   "cell_type": "code",
   "execution_count": null,
   "metadata": {},
   "outputs": [],
   "source": []
  }
 ]
}