{
 "cells": [
  {
   "cell_type": "code",
   "execution_count": 1,
   "metadata": {},
   "outputs": [],
   "source": [
    "# pip install Flask"
   ]
  },
  {
   "cell_type": "code",
   "execution_count": 2,
   "metadata": {},
   "outputs": [],
   "source": [
    "from flask import Flask\n",
    "import json\n",
    "import requests\n",
    "\n",
    "app = Flask(__name__)\n",
    "server = \"https://rest.ensembl.org/\""
   ]
  },
  {
   "cell_type": "code",
   "execution_count": 3,
   "metadata": {},
   "outputs": [],
   "source": [
    "from Bio.SeqUtils import GC\n",
    "from Bio.Seq import Seq"
   ]
  },
  {
   "cell_type": "code",
   "execution_count": 4,
   "metadata": {},
   "outputs": [],
   "source": [
    "@app.route('/')\n",
    "def hello_world():\n",
    "    return 'Hello, World!'"
   ]
  },
  {
   "cell_type": "code",
   "execution_count": 5,
   "metadata": {},
   "outputs": [],
   "source": [
    "def gene_with_exons(id, seq):\n",
    "    lt = requests.get(server + 'lookup/id/' + id + \"?content-type=application/json&expand=1\").text\n",
    "    lr = json.loads(lt)\n",
    "    \n",
    "    exons = [{ \"start\": e[\"start\"], \"end\": e[\"end\"], \"id\": e[\"id\"],\n",
    "               \"seq\": seq[e[\"start\"] - lr[\"start\"]: e[\"end\"] - lr[\"start\"]]\n",
    "    } for e in lr[\"Exon\"]]\n",
    "    \n",
    "    return {\"seq\": seq, \"exons\": exons}"
   ]
  },
  {
   "cell_type": "code",
   "execution_count": 6,
   "metadata": {},
   "outputs": [],
   "source": [
    "from flask import request\n",
    "\n",
    "@app.route('/v1/sequence/gene/<id>/')\n",
    "def get_gene(id):\n",
    "    gcContent = request.args.get('gc_content')\n",
    "    swap = request.args.get('swap')\n",
    "    \n",
    "    st = requests.get(server + 'sequence/id/' + id + \"?content-type=application/json\").text\n",
    "    sr = json.loads(st)\n",
    "    \n",
    "    seq = sr[\"seq\"]\n",
    "    \n",
    "    if(gcContent == \"true\" or swap is not None):\n",
    "        result = {\"seq\": seq}\n",
    "        if(gcContent == \"true\"):\n",
    "            result[\"gc_content\"] = GC(seq)\n",
    "        if(swap is not None):\n",
    "            rp = swap.split(\":\")\n",
    "            result[\"swap\"] = seq.replace(rp[0], rp[1])\n",
    "        return result\n",
    "    else:\n",
    "        return gene_with_exons(id, seq)"
   ]
  },
  {
   "cell_type": "code",
   "execution_count": 7,
   "metadata": {},
   "outputs": [],
   "source": [
    "@app.route('/v1/sequence/<id>/')\n",
    "def get_fasta(id):\n",
    "    contentType=request.args.get(\"content-type\")\n",
    "    \n",
    "    st = requests.get(server + 'sequence/id/' + id + \"?content-type=application/json\").text\n",
    "    sr = json.loads(st)\n",
    "    \n",
    "    seq = sr[\"seq\"]\n",
    "    if (contentType==\"fasta\"):\n",
    "        return {\"seq\": seq, \"id\": \">\"+id}\n",
    "    elif (contentType==\"x-fasta\"):\n",
    "        return{\"seq\": seq, \"id\": \">\"+ id + \" \" + sr[\"desc\"]}"
   ]
  },
  {
   "cell_type": "code",
   "execution_count": null,
   "metadata": {},
   "outputs": [
    {
     "name": "stdout",
     "output_type": "stream",
     "text": [
      " * Serving Flask app \"__main__\" (lazy loading)\n",
      " * Environment: production\n",
      "   WARNING: This is a development server. Do not use it in a production deployment.\n",
      "   Use a production WSGI server instead.\n",
      " * Debug mode: off\n"
     ]
    },
    {
     "name": "stderr",
     "output_type": "stream",
     "text": [
      " * Running on http://127.0.0.1:5000/ (Press CTRL+C to quit)\n",
      "127.0.0.1 - - [05/Feb/2021 17:22:52] \"\u001b[37mGET /v1/sequence/1234/?content-type=x-fasta HTTP/1.1\u001b[0m\" 200 -\n",
      "127.0.0.1 - - [05/Feb/2021 17:22:58] \"\u001b[37mGET /v1/sequence/1234/?content-type=x-fasta HTTP/1.1\u001b[0m\" 200 -\n",
      "[2021-02-05 17:24:35,185] ERROR in app: Exception on /v1/sequence/gene/1234/ [GET]\n",
      "Traceback (most recent call last):\n",
      "  File \"c:\\users\\dtrz\\appdata\\local\\programs\\python\\python38\\lib\\site-packages\\flask\\app.py\", line 2447, in wsgi_app\n",
      "    response = self.full_dispatch_request()\n",
      "  File \"c:\\users\\dtrz\\appdata\\local\\programs\\python\\python38\\lib\\site-packages\\flask\\app.py\", line 1952, in full_dispatch_request\n",
      "    rv = self.handle_user_exception(e)\n",
      "  File \"c:\\users\\dtrz\\appdata\\local\\programs\\python\\python38\\lib\\site-packages\\flask\\app.py\", line 1821, in handle_user_exception\n",
      "    reraise(exc_type, exc_value, tb)\n",
      "  File \"c:\\users\\dtrz\\appdata\\local\\programs\\python\\python38\\lib\\site-packages\\flask\\_compat.py\", line 39, in reraise\n",
      "    raise value\n",
      "  File \"c:\\users\\dtrz\\appdata\\local\\programs\\python\\python38\\lib\\site-packages\\flask\\app.py\", line 1950, in full_dispatch_request\n",
      "    rv = self.dispatch_request()\n",
      "  File \"c:\\users\\dtrz\\appdata\\local\\programs\\python\\python38\\lib\\site-packages\\flask\\app.py\", line 1936, in dispatch_request\n",
      "    return self.view_functions[rule.endpoint](**req.view_args)\n",
      "  File \"<ipython-input-6-ef15896994b9>\", line 22, in get_gene\n",
      "    return gene_with_exons(id, seq)\n",
      "  File \"<ipython-input-5-de92c97bec00>\", line 7, in gene_with_exons\n",
      "    } for e in lr[\"Exon\"]]\n",
      "KeyError: 'Exon'\n",
      "127.0.0.1 - - [05/Feb/2021 17:24:35] \"\u001b[35m\u001b[1mGET /v1/sequence/gene/1234/?content-type=x-fasta HTTP/1.1\u001b[0m\" 500 -\n",
      "[2021-02-05 17:24:37,227] ERROR in app: Exception on /v1/sequence/gene/1234/ [GET]\n",
      "Traceback (most recent call last):\n",
      "  File \"c:\\users\\dtrz\\appdata\\local\\programs\\python\\python38\\lib\\site-packages\\flask\\app.py\", line 2447, in wsgi_app\n",
      "    response = self.full_dispatch_request()\n",
      "  File \"c:\\users\\dtrz\\appdata\\local\\programs\\python\\python38\\lib\\site-packages\\flask\\app.py\", line 1952, in full_dispatch_request\n",
      "    rv = self.handle_user_exception(e)\n",
      "  File \"c:\\users\\dtrz\\appdata\\local\\programs\\python\\python38\\lib\\site-packages\\flask\\app.py\", line 1821, in handle_user_exception\n",
      "    reraise(exc_type, exc_value, tb)\n",
      "  File \"c:\\users\\dtrz\\appdata\\local\\programs\\python\\python38\\lib\\site-packages\\flask\\_compat.py\", line 39, in reraise\n",
      "    raise value\n",
      "  File \"c:\\users\\dtrz\\appdata\\local\\programs\\python\\python38\\lib\\site-packages\\flask\\app.py\", line 1950, in full_dispatch_request\n",
      "    rv = self.dispatch_request()\n",
      "  File \"c:\\users\\dtrz\\appdata\\local\\programs\\python\\python38\\lib\\site-packages\\flask\\app.py\", line 1936, in dispatch_request\n",
      "    return self.view_functions[rule.endpoint](**req.view_args)\n",
      "  File \"<ipython-input-6-ef15896994b9>\", line 22, in get_gene\n",
      "    return gene_with_exons(id, seq)\n",
      "  File \"<ipython-input-5-de92c97bec00>\", line 7, in gene_with_exons\n",
      "    } for e in lr[\"Exon\"]]\n",
      "KeyError: 'Exon'\n",
      "127.0.0.1 - - [05/Feb/2021 17:24:37] \"\u001b[35m\u001b[1mGET /v1/sequence/gene/1234/?content-type=x-fasta HTTP/1.1\u001b[0m\" 500 -\n",
      "127.0.0.1 - - [05/Feb/2021 17:24:58] \"\u001b[32mGET /v1/sequence/gene/1234 HTTP/1.1\u001b[0m\" 308 -\n",
      "[2021-02-05 17:24:58,930] ERROR in app: Exception on /v1/sequence/gene/1234/ [GET]\n",
      "Traceback (most recent call last):\n",
      "  File \"c:\\users\\dtrz\\appdata\\local\\programs\\python\\python38\\lib\\site-packages\\flask\\app.py\", line 2447, in wsgi_app\n",
      "    response = self.full_dispatch_request()\n",
      "  File \"c:\\users\\dtrz\\appdata\\local\\programs\\python\\python38\\lib\\site-packages\\flask\\app.py\", line 1952, in full_dispatch_request\n",
      "    rv = self.handle_user_exception(e)\n",
      "  File \"c:\\users\\dtrz\\appdata\\local\\programs\\python\\python38\\lib\\site-packages\\flask\\app.py\", line 1821, in handle_user_exception\n",
      "    reraise(exc_type, exc_value, tb)\n",
      "  File \"c:\\users\\dtrz\\appdata\\local\\programs\\python\\python38\\lib\\site-packages\\flask\\_compat.py\", line 39, in reraise\n",
      "    raise value\n",
      "  File \"c:\\users\\dtrz\\appdata\\local\\programs\\python\\python38\\lib\\site-packages\\flask\\app.py\", line 1950, in full_dispatch_request\n",
      "    rv = self.dispatch_request()\n",
      "  File \"c:\\users\\dtrz\\appdata\\local\\programs\\python\\python38\\lib\\site-packages\\flask\\app.py\", line 1936, in dispatch_request\n",
      "    return self.view_functions[rule.endpoint](**req.view_args)\n",
      "  File \"<ipython-input-6-ef15896994b9>\", line 22, in get_gene\n",
      "    return gene_with_exons(id, seq)\n",
      "  File \"<ipython-input-5-de92c97bec00>\", line 7, in gene_with_exons\n",
      "    } for e in lr[\"Exon\"]]\n",
      "KeyError: 'Exon'\n",
      "127.0.0.1 - - [05/Feb/2021 17:24:58] \"\u001b[35m\u001b[1mGET /v1/sequence/gene/1234/ HTTP/1.1\u001b[0m\" 500 -\n"
     ]
    }
   ],
   "source": [
    "app.run()"
   ]
  },
  {
   "cell_type": "code",
   "execution_count": null,
   "metadata": {},
   "outputs": [],
   "source": []
  }
 ],
 "metadata": {
  "kernelspec": {
   "display_name": "Python 3",
   "language": "python",
   "name": "python3"
  },
  "language_info": {
   "codemirror_mode": {
    "name": "ipython",
    "version": 3
   },
   "file_extension": ".py",
   "mimetype": "text/x-python",
   "name": "python",
   "nbconvert_exporter": "python",
   "pygments_lexer": "ipython3",
   "version": "3.8.2"
  }
 },
 "nbformat": 4,
 "nbformat_minor": 4
}
