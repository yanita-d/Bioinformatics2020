{
 "cells": [
  {
   "cell_type": "code",
   "execution_count": 122,
   "metadata": {},
   "outputs": [
    {
     "name": "stdout",
     "output_type": "stream",
     "text": [
      "7\n"
     ]
    }
   ],
   "source": [
    "from Bio.Seq import Seq\n",
    "\n",
    "print(Seq(\"ATAGTGGGAAGATTTATA\").count(\"A\"))"
   ]
  },
  {
   "cell_type": "code",
   "execution_count": 2,
   "metadata": {},
   "outputs": [],
   "source": [
    "mySeq = open(\"data/sequence_1.seq\", \"r\").read()\n",
    "revSeq = mySeq[::-1]\n",
    "\n",
    "outFile = open(\"reverse_sequence_1.seq\", \"w\")\n",
    "outFile.write(revSeq)\n",
    "outFile.close()"
   ]
  },
  {
   "cell_type": "code",
   "execution_count": 3,
   "metadata": {},
   "outputs": [
    {
     "name": "stdout",
     "output_type": "stream",
     "text": [
      "312\n"
     ]
    }
   ],
   "source": [
    "from Bio import SeqIO\n",
    "\n",
    "print(SeqIO.read(\"data/fasta_seq_1.fa\", \"fasta\").seq.count(\"T\"))"
   ]
  },
  {
   "cell_type": "code",
   "execution_count": 4,
   "metadata": {},
   "outputs": [],
   "source": [
    "mySeq = open(\"data/dna_chromosome_1.seq\", \"r\").read()\n",
    "\n",
    "outFile = open(\"dna_chromosome_solve_1.seq\", \"w\")\n",
    "for nuc in mySeq:\n",
    "    if nuc == 'A':\n",
    "        outFile.write('T')\n",
    "    elif nuc == 'T':\n",
    "        outFile.write('A')\n",
    "    else:\n",
    "        outFile.write(nuc)\n",
    "outFile.close()"
   ]
  },
  {
   "cell_type": "code",
   "execution_count": 121,
   "metadata": {},
   "outputs": [],
   "source": [
    "mySeq = open(\"data/dna_chromosome_1.seq\", \"r\").read().strip()\n",
    "\n",
    "outFile = open(\"reverse_rna_sequence_1.seq\", \"w\")\n",
    "outFile.write(Seq(mySeq[::-1]).transcribe().__str__())\n",
    "outFile.close()"
   ]
  },
  {
   "cell_type": "code",
   "execution_count": 105,
   "metadata": {},
   "outputs": [],
   "source": [
    "def startIndices(str, substr):\n",
    "    startInd = []\n",
    "    startIndex = str.find(substr)\n",
    "    while(startIndex != -1):\n",
    "        startInd.append(startIndex)\n",
    "        startIndex = str.find(substr, startIndex+1)\n",
    "    return startInd"
   ]
  },
  {
   "cell_type": "code",
   "execution_count": 108,
   "metadata": {},
   "outputs": [
    {
     "name": "stdout",
     "output_type": "stream",
     "text": [
      "[2, 4, 10]\n"
     ]
    }
   ],
   "source": [
    "s = \"GATATATGCATATACTT\"\n",
    "t = \"ATAT\"\n",
    "\n",
    "print(list(map(lambda x: x+1, startIndices(s, t))))"
   ]
  },
  {
   "cell_type": "code",
   "execution_count": 114,
   "metadata": {},
   "outputs": [],
   "source": [
    "def expressibleGenes(dna):\n",
    "    startCodon = \"AUG\"\n",
    "    RNATranscripts = [Seq(dna).transcribe(), Seq(dna).transcribe().reverse_complement()]\n",
    "    genes = []\n",
    "    for RNATranscript in RNATranscripts:\n",
    "        for startCodonIndex in startIndices(RNATranscript, startCodon):\n",
    "            newGene = RNATranscript[startCodonIndex:].translate()\n",
    "            if \"*\" in newGene:\n",
    "                genes.append(newGene.split(\"*\")[0].__str__())\n",
    "    return list(set(genes))"
   ]
  },
  {
   "cell_type": "code",
   "execution_count": 115,
   "metadata": {},
   "outputs": [
    {
     "name": "stdout",
     "output_type": "stream",
     "text": [
      "['MLLGSFRLIPKETLIQVAGSSPCNLS', 'MGMTPRLGLESLLE', 'M', 'MTPRLGLESLLE']\n"
     ]
    }
   ],
   "source": [
    "print(expressibleGenes(\"AGCCATGTAGCTAACTCAGGTTACATGGGGATGACCCCGCGACTTGGATTAGAGTCTCTTTTGGAATAAGCCTGAATGATCCGAGTAGCATCTCAG\"))"
   ]
  },
  {
   "cell_type": "code",
   "execution_count": null,
   "metadata": {},
   "outputs": [],
   "source": []
  }
 ],
 "metadata": {
  "kernelspec": {
   "display_name": "Python 3",
   "language": "python",
   "name": "python3"
  },
  "language_info": {
   "codemirror_mode": {
    "name": "ipython",
    "version": 3
   },
   "file_extension": ".py",
   "mimetype": "text/x-python",
   "name": "python",
   "nbconvert_exporter": "python",
   "pygments_lexer": "ipython3",
   "version": "3.8.2"
  }
 },
 "nbformat": 4,
 "nbformat_minor": 4
}
